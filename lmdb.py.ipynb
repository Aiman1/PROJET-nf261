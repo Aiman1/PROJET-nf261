{
 "cells": [
  {
   "cell_type": "code",
   "execution_count": 1,
   "metadata": {
    "collapsed": true
   },
   "outputs": [],
   "source": [
    "%config IPCompleter.greedy=True\n",
    "import lmdb\n",
    "import os\n",
    "import csv\n",
    "import pickle"
   ]
  },
  {
   "cell_type": "code",
   "execution_count": null,
   "metadata": {},
   "outputs": [],
   "source": [
    "path_file = \"2014-01 - Citi Bike trip data.csv\"\n",
    "chunk_size = 100"
   ]
  },
  {
   "cell_type": "code",
   "execution_count": null,
   "metadata": {},
   "outputs": [],
   "source": [
    "lmdb_database = lmdb.open('bike_db', map_size = 2 ** 30)\n",
    "x = pickle.dumps(1)\n",
    "print(x)\n",
    "print(pickle.loads(x))"
   ]
  },
  {
   "cell_type": "code",
   "execution_count": null,
   "metadata": {},
   "outputs": [],
   "source": [
    "row = [\n",
    "        \"tripduration\",\"starttime\",\"stoptime\",\"start station id\",\"start station name\",\n",
    "        \"start station latitude\",\"start station longitude\",\n",
    "        \"end station id\",\"end station name\",\n",
    "        \"end station latitude\",\"end station longitude\"\n",
    "        ]"
   ]
  },
  {
   "cell_type": "code",
   "execution_count": null,
   "metadata": {},
   "outputs": [],
   "source": [
    "with open(path_file) as csv_file:\n",
    "    reader = csv.reader(csv_file)\n",
    "    next(reader)\n",
    "    line_number = 1\n",
    "    for row in reader :\n",
    "        with lmdb_database.begin(write = True) as txn:\n",
    "            notBinaryObject = row[0:11]\n",
    "            txn.put(pickle.dumps(line_number), pickle.dumps(notBinaryObject))\n",
    "            line_number = line_number + 1\n",
    "            break"
   ]
  },
  {
   "cell_type": "code",
   "execution_count": null,
   "metadata": {},
   "outputs": [],
   "source": [
    "with lmdb_database.begin() as txn:\n",
    "    azerty = txn.get(pickle.dumps(0))\n",
    "    print(pickle.loads(azerty))"
   ]
  },
  {
   "cell_type": "code",
   "execution_count": null,
   "metadata": {},
   "outputs": [],
   "source": [
    "with open(path_file) as csv_file:\n",
    "    reader = csv.reader(csv_file)\n",
    "    next(reader)\n",
    "    data = [r for r in reader]\n",
    "    print(data[0][0:11])\n",
    "    print(pickle.dumps(data[0][0:11]))"
   ]
  }
 ],
 "metadata": {
  "kernelspec": {
   "display_name": "Python 2",
   "language": "python",
   "name": "python2"
  },
  "language_info": {
   "codemirror_mode": {
    "name": "ipython",
    "version": 2.0
   },
   "file_extension": ".py",
   "mimetype": "text/x-python",
   "name": "python",
   "nbconvert_exporter": "python",
   "pygments_lexer": "ipython2",
   "version": "2.7.6"
  }
 },
 "nbformat": 4,
 "nbformat_minor": 0
}